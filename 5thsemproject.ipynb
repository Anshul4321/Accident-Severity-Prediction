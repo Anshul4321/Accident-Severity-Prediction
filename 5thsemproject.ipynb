{
 "cells": [
  {
   "cell_type": "code",
   "execution_count": 1,
   "id": "8c62aa39",
   "metadata": {},
   "outputs": [
    {
     "name": "stderr",
     "output_type": "stream",
     "text": [
      "C:\\Users\\DELL\\anaconda3\\lib\\site-packages\\IPython\\core\\interactiveshell.py:3444: DtypeWarning: Columns (0) have mixed types.Specify dtype option on import or set low_memory=False.\n",
      "  exec(code_obj, self.user_global_ns, self.user_ns)\n"
     ]
    }
   ],
   "source": [
    "import pandas as pd\n",
    "import numpy as np\n",
    "from sklearn import metrics\n",
    "from sklearn.metrics import classification_report, confusion_matrix  \n",
    "\n",
    "df = pd.read_csv('Accident_Information.csv', sep=',',encoding=\"ISO-8859-1\")"
   ]
  },
  {
   "cell_type": "code",
   "execution_count": 2,
   "id": "22b9cf1f",
   "metadata": {},
   "outputs": [
    {
     "data": {
      "text/html": [
       "<div>\n",
       "<style scoped>\n",
       "    .dataframe tbody tr th:only-of-type {\n",
       "        vertical-align: middle;\n",
       "    }\n",
       "\n",
       "    .dataframe tbody tr th {\n",
       "        vertical-align: top;\n",
       "    }\n",
       "\n",
       "    .dataframe thead th {\n",
       "        text-align: right;\n",
       "    }\n",
       "</style>\n",
       "<table border=\"1\" class=\"dataframe\">\n",
       "  <thead>\n",
       "    <tr style=\"text-align: right;\">\n",
       "      <th></th>\n",
       "      <th>Accident_Index</th>\n",
       "      <th>1st_Road_Class</th>\n",
       "      <th>1st_Road_Number</th>\n",
       "      <th>2nd_Road_Class</th>\n",
       "      <th>2nd_Road_Number</th>\n",
       "      <th>Accident_Severity</th>\n",
       "      <th>Carriageway_Hazards</th>\n",
       "      <th>Date</th>\n",
       "      <th>Day_of_Week</th>\n",
       "      <th>Did_Police_Officer_Attend_Scene_of_Accident</th>\n",
       "      <th>...</th>\n",
       "      <th>Police_Force</th>\n",
       "      <th>Road_Surface_Conditions</th>\n",
       "      <th>Road_Type</th>\n",
       "      <th>Special_Conditions_at_Site</th>\n",
       "      <th>Speed_limit</th>\n",
       "      <th>Time</th>\n",
       "      <th>Urban_or_Rural_Area</th>\n",
       "      <th>Weather_Conditions</th>\n",
       "      <th>Year</th>\n",
       "      <th>InScotland</th>\n",
       "    </tr>\n",
       "  </thead>\n",
       "  <tbody>\n",
       "    <tr>\n",
       "      <th>0</th>\n",
       "      <td>200501BS00001</td>\n",
       "      <td>A</td>\n",
       "      <td>3218.0</td>\n",
       "      <td>NaN</td>\n",
       "      <td>0.0</td>\n",
       "      <td>Serious</td>\n",
       "      <td>None</td>\n",
       "      <td>2005-01-04</td>\n",
       "      <td>Tuesday</td>\n",
       "      <td>1.0</td>\n",
       "      <td>...</td>\n",
       "      <td>Metropolitan Police</td>\n",
       "      <td>Wet or damp</td>\n",
       "      <td>Single carriageway</td>\n",
       "      <td>None</td>\n",
       "      <td>30.0</td>\n",
       "      <td>17:42</td>\n",
       "      <td>Urban</td>\n",
       "      <td>Raining no high winds</td>\n",
       "      <td>2005</td>\n",
       "      <td>No</td>\n",
       "    </tr>\n",
       "    <tr>\n",
       "      <th>1</th>\n",
       "      <td>200501BS00002</td>\n",
       "      <td>B</td>\n",
       "      <td>450.0</td>\n",
       "      <td>C</td>\n",
       "      <td>0.0</td>\n",
       "      <td>Slight</td>\n",
       "      <td>None</td>\n",
       "      <td>2005-01-05</td>\n",
       "      <td>Wednesday</td>\n",
       "      <td>1.0</td>\n",
       "      <td>...</td>\n",
       "      <td>Metropolitan Police</td>\n",
       "      <td>Dry</td>\n",
       "      <td>Dual carriageway</td>\n",
       "      <td>None</td>\n",
       "      <td>30.0</td>\n",
       "      <td>17:36</td>\n",
       "      <td>Urban</td>\n",
       "      <td>Fine no high winds</td>\n",
       "      <td>2005</td>\n",
       "      <td>No</td>\n",
       "    </tr>\n",
       "    <tr>\n",
       "      <th>2</th>\n",
       "      <td>200501BS00003</td>\n",
       "      <td>C</td>\n",
       "      <td>0.0</td>\n",
       "      <td>NaN</td>\n",
       "      <td>0.0</td>\n",
       "      <td>Slight</td>\n",
       "      <td>None</td>\n",
       "      <td>2005-01-06</td>\n",
       "      <td>Thursday</td>\n",
       "      <td>1.0</td>\n",
       "      <td>...</td>\n",
       "      <td>Metropolitan Police</td>\n",
       "      <td>Dry</td>\n",
       "      <td>Single carriageway</td>\n",
       "      <td>None</td>\n",
       "      <td>30.0</td>\n",
       "      <td>00:15</td>\n",
       "      <td>Urban</td>\n",
       "      <td>Fine no high winds</td>\n",
       "      <td>2005</td>\n",
       "      <td>No</td>\n",
       "    </tr>\n",
       "    <tr>\n",
       "      <th>3</th>\n",
       "      <td>200501BS00004</td>\n",
       "      <td>A</td>\n",
       "      <td>3220.0</td>\n",
       "      <td>NaN</td>\n",
       "      <td>0.0</td>\n",
       "      <td>Slight</td>\n",
       "      <td>None</td>\n",
       "      <td>2005-01-07</td>\n",
       "      <td>Friday</td>\n",
       "      <td>1.0</td>\n",
       "      <td>...</td>\n",
       "      <td>Metropolitan Police</td>\n",
       "      <td>Dry</td>\n",
       "      <td>Single carriageway</td>\n",
       "      <td>None</td>\n",
       "      <td>30.0</td>\n",
       "      <td>10:35</td>\n",
       "      <td>Urban</td>\n",
       "      <td>Fine no high winds</td>\n",
       "      <td>2005</td>\n",
       "      <td>No</td>\n",
       "    </tr>\n",
       "    <tr>\n",
       "      <th>4</th>\n",
       "      <td>200501BS00005</td>\n",
       "      <td>Unclassified</td>\n",
       "      <td>0.0</td>\n",
       "      <td>NaN</td>\n",
       "      <td>0.0</td>\n",
       "      <td>Slight</td>\n",
       "      <td>None</td>\n",
       "      <td>2005-01-10</td>\n",
       "      <td>Monday</td>\n",
       "      <td>1.0</td>\n",
       "      <td>...</td>\n",
       "      <td>Metropolitan Police</td>\n",
       "      <td>Wet or damp</td>\n",
       "      <td>Single carriageway</td>\n",
       "      <td>None</td>\n",
       "      <td>30.0</td>\n",
       "      <td>21:13</td>\n",
       "      <td>Urban</td>\n",
       "      <td>Fine no high winds</td>\n",
       "      <td>2005</td>\n",
       "      <td>No</td>\n",
       "    </tr>\n",
       "    <tr>\n",
       "      <th>...</th>\n",
       "      <td>...</td>\n",
       "      <td>...</td>\n",
       "      <td>...</td>\n",
       "      <td>...</td>\n",
       "      <td>...</td>\n",
       "      <td>...</td>\n",
       "      <td>...</td>\n",
       "      <td>...</td>\n",
       "      <td>...</td>\n",
       "      <td>...</td>\n",
       "      <td>...</td>\n",
       "      <td>...</td>\n",
       "      <td>...</td>\n",
       "      <td>...</td>\n",
       "      <td>...</td>\n",
       "      <td>...</td>\n",
       "      <td>...</td>\n",
       "      <td>...</td>\n",
       "      <td>...</td>\n",
       "      <td>...</td>\n",
       "      <td>...</td>\n",
       "    </tr>\n",
       "    <tr>\n",
       "      <th>2047251</th>\n",
       "      <td>2017984121017</td>\n",
       "      <td>A(M)</td>\n",
       "      <td>74.0</td>\n",
       "      <td>NaN</td>\n",
       "      <td>0.0</td>\n",
       "      <td>Slight</td>\n",
       "      <td>None</td>\n",
       "      <td>2017-12-17</td>\n",
       "      <td>Sunday</td>\n",
       "      <td>1.0</td>\n",
       "      <td>...</td>\n",
       "      <td>Dumfries and Galloway</td>\n",
       "      <td>Frost or ice</td>\n",
       "      <td>Dual carriageway</td>\n",
       "      <td>None</td>\n",
       "      <td>70.0</td>\n",
       "      <td>11:30</td>\n",
       "      <td>Rural</td>\n",
       "      <td>Other</td>\n",
       "      <td>2017</td>\n",
       "      <td>Yes</td>\n",
       "    </tr>\n",
       "    <tr>\n",
       "      <th>2047252</th>\n",
       "      <td>2017984121217</td>\n",
       "      <td>C</td>\n",
       "      <td>69.0</td>\n",
       "      <td>NaN</td>\n",
       "      <td>0.0</td>\n",
       "      <td>Slight</td>\n",
       "      <td>Pedestrian in carriageway - not injured</td>\n",
       "      <td>2017-12-15</td>\n",
       "      <td>Friday</td>\n",
       "      <td>2.0</td>\n",
       "      <td>...</td>\n",
       "      <td>Dumfries and Galloway</td>\n",
       "      <td>Dry</td>\n",
       "      <td>Single carriageway</td>\n",
       "      <td>None</td>\n",
       "      <td>20.0</td>\n",
       "      <td>13:00</td>\n",
       "      <td>Urban</td>\n",
       "      <td>Fine no high winds</td>\n",
       "      <td>2017</td>\n",
       "      <td>Yes</td>\n",
       "    </tr>\n",
       "    <tr>\n",
       "      <th>2047253</th>\n",
       "      <td>2017984121717</td>\n",
       "      <td>A(M)</td>\n",
       "      <td>74.0</td>\n",
       "      <td>Unclassified</td>\n",
       "      <td>0.0</td>\n",
       "      <td>Slight</td>\n",
       "      <td>None</td>\n",
       "      <td>2017-12-18</td>\n",
       "      <td>Monday</td>\n",
       "      <td>1.0</td>\n",
       "      <td>...</td>\n",
       "      <td>Dumfries and Galloway</td>\n",
       "      <td>Wet or damp</td>\n",
       "      <td>Dual carriageway</td>\n",
       "      <td>None</td>\n",
       "      <td>70.0</td>\n",
       "      <td>13:30</td>\n",
       "      <td>Rural</td>\n",
       "      <td>Fine no high winds</td>\n",
       "      <td>2017</td>\n",
       "      <td>Yes</td>\n",
       "    </tr>\n",
       "    <tr>\n",
       "      <th>2047254</th>\n",
       "      <td>2017984122317</td>\n",
       "      <td>A</td>\n",
       "      <td>708.0</td>\n",
       "      <td>NaN</td>\n",
       "      <td>0.0</td>\n",
       "      <td>Slight</td>\n",
       "      <td>None</td>\n",
       "      <td>2017-07-18</td>\n",
       "      <td>Tuesday</td>\n",
       "      <td>1.0</td>\n",
       "      <td>...</td>\n",
       "      <td>Dumfries and Galloway</td>\n",
       "      <td>Dry</td>\n",
       "      <td>Single carriageway</td>\n",
       "      <td>None</td>\n",
       "      <td>60.0</td>\n",
       "      <td>18:00</td>\n",
       "      <td>Rural</td>\n",
       "      <td>Fine no high winds</td>\n",
       "      <td>2017</td>\n",
       "      <td>Yes</td>\n",
       "    </tr>\n",
       "    <tr>\n",
       "      <th>2047255</th>\n",
       "      <td>2017984122617</td>\n",
       "      <td>B</td>\n",
       "      <td>721.0</td>\n",
       "      <td>B</td>\n",
       "      <td>724.0</td>\n",
       "      <td>Serious</td>\n",
       "      <td>None</td>\n",
       "      <td>2017-12-20</td>\n",
       "      <td>Wednesday</td>\n",
       "      <td>1.0</td>\n",
       "      <td>...</td>\n",
       "      <td>Dumfries and Galloway</td>\n",
       "      <td>Wet or damp</td>\n",
       "      <td>Single carriageway</td>\n",
       "      <td>None</td>\n",
       "      <td>40.0</td>\n",
       "      <td>13:00</td>\n",
       "      <td>Rural</td>\n",
       "      <td>Fog or mist</td>\n",
       "      <td>2017</td>\n",
       "      <td>Yes</td>\n",
       "    </tr>\n",
       "  </tbody>\n",
       "</table>\n",
       "<p>2047256 rows × 34 columns</p>\n",
       "</div>"
      ],
      "text/plain": [
       "        Accident_Index 1st_Road_Class  1st_Road_Number 2nd_Road_Class  \\\n",
       "0        200501BS00001              A           3218.0            NaN   \n",
       "1        200501BS00002              B            450.0              C   \n",
       "2        200501BS00003              C              0.0            NaN   \n",
       "3        200501BS00004              A           3220.0            NaN   \n",
       "4        200501BS00005   Unclassified              0.0            NaN   \n",
       "...                ...            ...              ...            ...   \n",
       "2047251  2017984121017           A(M)             74.0            NaN   \n",
       "2047252  2017984121217              C             69.0            NaN   \n",
       "2047253  2017984121717           A(M)             74.0   Unclassified   \n",
       "2047254  2017984122317              A            708.0            NaN   \n",
       "2047255  2017984122617              B            721.0              B   \n",
       "\n",
       "         2nd_Road_Number Accident_Severity  \\\n",
       "0                    0.0           Serious   \n",
       "1                    0.0            Slight   \n",
       "2                    0.0            Slight   \n",
       "3                    0.0            Slight   \n",
       "4                    0.0            Slight   \n",
       "...                  ...               ...   \n",
       "2047251              0.0            Slight   \n",
       "2047252              0.0            Slight   \n",
       "2047253              0.0            Slight   \n",
       "2047254              0.0            Slight   \n",
       "2047255            724.0           Serious   \n",
       "\n",
       "                             Carriageway_Hazards        Date Day_of_Week  \\\n",
       "0                                           None  2005-01-04     Tuesday   \n",
       "1                                           None  2005-01-05   Wednesday   \n",
       "2                                           None  2005-01-06    Thursday   \n",
       "3                                           None  2005-01-07      Friday   \n",
       "4                                           None  2005-01-10      Monday   \n",
       "...                                          ...         ...         ...   \n",
       "2047251                                     None  2017-12-17      Sunday   \n",
       "2047252  Pedestrian in carriageway - not injured  2017-12-15      Friday   \n",
       "2047253                                     None  2017-12-18      Monday   \n",
       "2047254                                     None  2017-07-18     Tuesday   \n",
       "2047255                                     None  2017-12-20   Wednesday   \n",
       "\n",
       "         Did_Police_Officer_Attend_Scene_of_Accident  ...  \\\n",
       "0                                                1.0  ...   \n",
       "1                                                1.0  ...   \n",
       "2                                                1.0  ...   \n",
       "3                                                1.0  ...   \n",
       "4                                                1.0  ...   \n",
       "...                                              ...  ...   \n",
       "2047251                                          1.0  ...   \n",
       "2047252                                          2.0  ...   \n",
       "2047253                                          1.0  ...   \n",
       "2047254                                          1.0  ...   \n",
       "2047255                                          1.0  ...   \n",
       "\n",
       "                  Police_Force Road_Surface_Conditions           Road_Type  \\\n",
       "0          Metropolitan Police             Wet or damp  Single carriageway   \n",
       "1          Metropolitan Police                     Dry    Dual carriageway   \n",
       "2          Metropolitan Police                     Dry  Single carriageway   \n",
       "3          Metropolitan Police                     Dry  Single carriageway   \n",
       "4          Metropolitan Police             Wet or damp  Single carriageway   \n",
       "...                        ...                     ...                 ...   \n",
       "2047251  Dumfries and Galloway            Frost or ice    Dual carriageway   \n",
       "2047252  Dumfries and Galloway                     Dry  Single carriageway   \n",
       "2047253  Dumfries and Galloway             Wet or damp    Dual carriageway   \n",
       "2047254  Dumfries and Galloway                     Dry  Single carriageway   \n",
       "2047255  Dumfries and Galloway             Wet or damp  Single carriageway   \n",
       "\n",
       "        Special_Conditions_at_Site Speed_limit   Time  Urban_or_Rural_Area  \\\n",
       "0                             None        30.0  17:42                Urban   \n",
       "1                             None        30.0  17:36                Urban   \n",
       "2                             None        30.0  00:15                Urban   \n",
       "3                             None        30.0  10:35                Urban   \n",
       "4                             None        30.0  21:13                Urban   \n",
       "...                            ...         ...    ...                  ...   \n",
       "2047251                       None        70.0  11:30                Rural   \n",
       "2047252                       None        20.0  13:00                Urban   \n",
       "2047253                       None        70.0  13:30                Rural   \n",
       "2047254                       None        60.0  18:00                Rural   \n",
       "2047255                       None        40.0  13:00                Rural   \n",
       "\n",
       "            Weather_Conditions  Year InScotland  \n",
       "0        Raining no high winds  2005         No  \n",
       "1           Fine no high winds  2005         No  \n",
       "2           Fine no high winds  2005         No  \n",
       "3           Fine no high winds  2005         No  \n",
       "4           Fine no high winds  2005         No  \n",
       "...                        ...   ...        ...  \n",
       "2047251                  Other  2017        Yes  \n",
       "2047252     Fine no high winds  2017        Yes  \n",
       "2047253     Fine no high winds  2017        Yes  \n",
       "2047254     Fine no high winds  2017        Yes  \n",
       "2047255            Fog or mist  2017        Yes  \n",
       "\n",
       "[2047256 rows x 34 columns]"
      ]
     },
     "execution_count": 2,
     "metadata": {},
     "output_type": "execute_result"
    }
   ],
   "source": [
    "df"
   ]
  },
  {
   "cell_type": "code",
   "execution_count": 3,
   "id": "93ed15e3",
   "metadata": {},
   "outputs": [
    {
     "name": "stdout",
     "output_type": "stream",
     "text": [
      "0    2010553\n",
      "1      36703\n",
      "Name: Carriageway_Hazards, dtype: int64\n"
     ]
    }
   ],
   "source": [
    "encoding = {\n",
    "\"Carriageway_Hazards\": {\"None\": 0, \"Other object on road\": 1, \"Any animal in carriageway (except ridden horse)\": 1,  \"Pedestrian in carriageway - not injured\": 1, \"Previous accident\": 1, \"Vehicle load on road\": 1,  \"Data missing or out of range\": 0  }\n",
    "}\n",
    "df.replace(encoding, inplace=True)\n",
    "print(df['Carriageway_Hazards'].value_counts())"
   ]
  },
  {
   "cell_type": "code",
   "execution_count": 4,
   "id": "c87add5a",
   "metadata": {},
   "outputs": [
    {
     "name": "stdout",
     "output_type": "stream",
     "text": [
      "Daylight                        1496121\n",
      "Darkness - lights lit            404144\n",
      "Darkness - no lighting           112644\n",
      "Darkness - lighting unknown       24362\n",
      "Darkness - lights unlit            9971\n",
      "Data missing or out of range         14\n",
      "Name: Light_Conditions, dtype: int64\n",
      "0    1496135\n",
      "1     551121\n",
      "Name: Light_Conditions, dtype: int64\n"
     ]
    }
   ],
   "source": [
    "print(df['Light_Conditions'].value_counts())\n",
    "encoding_light = {\"Light_Conditions\": {\"Daylight\": 0, \"Darkness - lights lit\": 1, \"Darkness - no lighting\": 1, \"Darkness - lighting unknown\": 1, \"Darkness - lights unlit\": 1, \"Data missing or out of range\": 0}}\n",
    "df.replace(encoding_light, inplace=True)\n",
    "print(df['Light_Conditions'].value_counts())"
   ]
  },
  {
   "cell_type": "code",
   "execution_count": 5,
   "id": "a2df6ccc",
   "metadata": {},
   "outputs": [
    {
     "name": "stdout",
     "output_type": "stream",
     "text": [
      "Friday       335183\n",
      "Wednesday    308580\n",
      "Thursday     308240\n",
      "Tuesday      306292\n",
      "Monday       290482\n",
      "Saturday     273152\n",
      "Sunday       225327\n",
      "Name: Day_of_Week, dtype: int64\n",
      "0    1548777\n",
      "1     498479\n",
      "Name: Day_of_Week, dtype: int64\n"
     ]
    }
   ],
   "source": [
    "print(df['Day_of_Week'].value_counts())\n",
    "encoding_day_of_week = {\"Day_of_Week\": {\"Saturday\": 1, \"Sunday\": 1, \"Monday\": 0, \"Tuesday\": 0, \"Wednesday\": 0, \"Thursday\": 0, \"Friday\": 0}}\n",
    "df.replace(encoding_day_of_week, inplace=True)\n",
    "print(df['Day_of_Week'].value_counts())"
   ]
  },
  {
   "cell_type": "code",
   "execution_count": 6,
   "id": "be95e07f",
   "metadata": {},
   "outputs": [
    {
     "name": "stdout",
     "output_type": "stream",
     "text": [
      "None                                          1995137\n",
      "Roadworks                                       23525\n",
      "Oil or diesel                                    6797\n",
      "Mud                                              6363\n",
      "Road surface defective                           4801\n",
      "Auto traffic signal - out                        3855\n",
      "Road sign or marking defective or obscured       2930\n",
      "Data missing or out of range                     2835\n",
      "Auto signal part defective                       1013\n",
      "Name: Special_Conditions_at_Site, dtype: int64\n",
      "0    1997972\n",
      "1      49284\n",
      "Name: Special_Conditions_at_Site, dtype: int64\n"
     ]
    }
   ],
   "source": [
    "print(df['Special_Conditions_at_Site'].value_counts())\n",
    "encoding_Special_Conditions_at_Site = {\"Special_Conditions_at_Site\": {\"None\": 0, \"Roadworks\": 1, \"Oil or diesel\": 1, \"Mud\": 1, \"Road surface defective\": 1, \"Auto traffic signal - out\": 1, \"Road sign or marking defective or obscured\": 1, \"Auto signal part defective\": 1, \"Data missing or out of range\": 0}}\n",
    "df.replace(encoding_Special_Conditions_at_Site, inplace=True)\n",
    "print(df['Special_Conditions_at_Site'].value_counts())"
   ]
  },
  {
   "cell_type": "code",
   "execution_count": 7,
   "id": "2c8d8954",
   "metadata": {},
   "outputs": [
    {
     "data": {
      "text/plain": [
       "1    1536156\n",
       "2     258076\n",
       "3     174953\n",
       "4      78071\n",
       "Name: 1st_Road_Class, dtype: int64"
      ]
     },
     "execution_count": 7,
     "metadata": {},
     "output_type": "execute_result"
    }
   ],
   "source": [
    "encoding_1st_road_class = {\"1st_Road_Class\": {\"A\": 1, \"A(M)\": 1, \"B\": 2, \"C\": 3, \"Motorway\": 4, \"Unclassified\": 1}}\n",
    "df.replace(encoding_1st_road_class, inplace=True)\n",
    "df['1st_Road_Class'].value_counts()"
   ]
  },
  {
   "cell_type": "code",
   "execution_count": 8,
   "id": "a335bc5c",
   "metadata": {},
   "outputs": [],
   "source": [
    "df['Junction_Control'] = df['Junction_Control'].replace(['Data missing or out of range'], 'Give way or uncontrolled')"
   ]
  },
  {
   "cell_type": "code",
   "execution_count": 9,
   "id": "4d1dcb6c",
   "metadata": {},
   "outputs": [
    {
     "data": {
      "text/plain": [
       "Give way or uncontrolled               1742624\n",
       "Auto traffic signal                     211335\n",
       "Not at junction or within 20 metres      77304\n",
       "Stop sign                                12333\n",
       "Authorised person                         3660\n",
       "Name: Junction_Control, dtype: int64"
      ]
     },
     "execution_count": 9,
     "metadata": {},
     "output_type": "execute_result"
    }
   ],
   "source": [
    "df['Junction_Control'].value_counts()"
   ]
  },
  {
   "cell_type": "code",
   "execution_count": 10,
   "id": "5616751f",
   "metadata": {},
   "outputs": [
    {
     "data": {
      "text/plain": [
       "1    1742624\n",
       "2     211335\n",
       "3      77304\n",
       "4      12333\n",
       "5       3660\n",
       "Name: Junction_Control, dtype: int64"
      ]
     },
     "execution_count": 10,
     "metadata": {},
     "output_type": "execute_result"
    }
   ],
   "source": [
    "encoding_junction_detail = {\"Junction_Control\": \n",
    "                            {\"Give way or uncontrolled\": 1,\n",
    "                             \"Auto traffic signal\": 2,\n",
    "                             \"Not at junction or within 20 metres\": 3, \n",
    "                             \"Stop sign\": 4,\n",
    "                             \"Authorised person\": 5,\n",
    "                              }}\n",
    "df.replace(encoding_junction_detail, inplace=True)\n",
    "df['Junction_Control'].value_counts()"
   ]
  },
  {
   "cell_type": "code",
   "execution_count": 11,
   "id": "7aba625e",
   "metadata": {},
   "outputs": [
    {
     "data": {
      "text/plain": [
       "1    827957\n",
       "2    635349\n",
       "3    196283\n",
       "4    177214\n",
       "5     72751\n",
       "6     59692\n",
       "7     30052\n",
       "8     25551\n",
       "9     22407\n",
       "Name: Junction_Detail, dtype: int64"
      ]
     },
     "execution_count": 11,
     "metadata": {},
     "output_type": "execute_result"
    }
   ],
   "source": [
    "encoding_junction_detail = {\"Junction_Detail\": \n",
    "                            {\"Not at junction or within 20 metres\": 1,\n",
    "                             \"T or staggered junction\": 2,\n",
    "                             \"Crossroads\": 3, \n",
    "                             \"Roundabout\": 4,\n",
    "                             \"Private drive or entrance\": 5,\n",
    "                             \"Other junction\": 6,\n",
    "                             \"Slip road\": 7,\n",
    "                             \"More than 4 arms (not roundabout)\": 8,\n",
    "                             \"Mini-roundabout\": 9,\n",
    "                             \"Data missing or out of range\": 1 }}\n",
    "df.replace(encoding_junction_detail, inplace=True)\n",
    "df['Junction_Detail'].value_counts()"
   ]
  },
  {
   "cell_type": "code",
   "execution_count": 12,
   "id": "1844ab9e",
   "metadata": {},
   "outputs": [
    {
     "data": {
      "text/plain": [
       "1    1423360\n",
       "2     568563\n",
       "3      40321\n",
       "4      12167\n",
       "5       2845\n",
       "Name: Road_Surface_Conditions, dtype: int64"
      ]
     },
     "execution_count": 12,
     "metadata": {},
     "output_type": "execute_result"
    }
   ],
   "source": [
    "encoding_road_surface_cond = {\"Road_Surface_Conditions\": \n",
    "                            {\"Dry\": 1,\n",
    "                             \"Wet or damp\": 2,\n",
    "                             \"Frost or ice\": 3, \n",
    "                             \"Snow\": 4,\n",
    "                             \"Flood over 3cm. deep\": 5,\n",
    "                             \"Data missing or out of range\": 1 }}\n",
    "df.replace(encoding_road_surface_cond, inplace=True)\n",
    "df['Road_Surface_Conditions'].value_counts()"
   ]
  },
  {
   "cell_type": "code",
   "execution_count": 13,
   "id": "411bad3a",
   "metadata": {},
   "outputs": [
    {
     "data": {
      "text/plain": [
       "1    1527883\n",
       "2     303407\n",
       "3     136754\n",
       "4      43258\n",
       "5      21558\n",
       "0      14396\n",
       "Name: Road_Type, dtype: int64"
      ]
     },
     "execution_count": 13,
     "metadata": {},
     "output_type": "execute_result"
    }
   ],
   "source": [
    "encoding_road_type = {\"Road_Type\": \n",
    "                            {\"Single carriageway\": 1,\n",
    "                             \"Dual carriageway\": 2,\n",
    "                             \"Roundabout\": 3, \n",
    "                             \"One way street\": 4,\n",
    "                             \"Slip road\": 5,\n",
    "                             \"Unknown\": 0,\n",
    "                             \"Data missing or out of range\": 1 }}\n",
    "df.replace(encoding_road_type, inplace=True)\n",
    "df['Road_Type'].value_counts()"
   ]
  },
  {
   "cell_type": "code",
   "execution_count": 14,
   "id": "fba64207",
   "metadata": {},
   "outputs": [
    {
     "data": {
      "text/plain": [
       "1    1322499\n",
       "2     724757\n",
       "Name: Urban_or_Rural_Area, dtype: int64"
      ]
     },
     "execution_count": 14,
     "metadata": {},
     "output_type": "execute_result"
    }
   ],
   "source": [
    "encoding_urban_rural = {\"Urban_or_Rural_Area\": \n",
    "                            {\"Urban\": 1,\n",
    "                             \"Rural\": 2,\n",
    "                             \"Unallocated\": 1 }}\n",
    "df.replace(encoding_urban_rural, inplace=True)\n",
    "df['Urban_or_Rural_Area'].value_counts()"
   ]
  },
  {
   "cell_type": "code",
   "execution_count": 15,
   "id": "bfe50b29",
   "metadata": {},
   "outputs": [
    {
     "data": {
      "text/plain": [
       "1    1726874\n",
       "2     239281\n",
       "3      28343\n",
       "4      25816\n",
       "5      13387\n",
       "6      11068\n",
       "7       2487\n",
       "Name: Weather_Conditions, dtype: int64"
      ]
     },
     "execution_count": 15,
     "metadata": {},
     "output_type": "execute_result"
    }
   ],
   "source": [
    "encoding_weather = {\"Weather_Conditions\": \n",
    "                            {\"Fine no high winds\": 1,\n",
    "                             \"Raining no high winds\": 2,\n",
    "                             \"Raining + high winds\": 3,\n",
    "                             \"Fine + high winds\": 4,\n",
    "                             \"Snowing no high winds\": 5,\n",
    "                             \"Fog or mist\": 6,\n",
    "                             \"Snowing + high winds\": 7,\n",
    "                             \"Unknown\": 1,\n",
    "                             \"Other\": 1,\n",
    "                             \"Data missing or out of range\": 1 }}\n",
    "df.replace(encoding_weather, inplace=True)\n",
    "df['Weather_Conditions'].value_counts()"
   ]
  },
  {
   "cell_type": "code",
   "execution_count": 16,
   "id": "7cf56466",
   "metadata": {},
   "outputs": [
    {
     "data": {
      "text/plain": [
       "(array([1801605, 1843133, 1843396, 1857338, 1857382, 1857458, 1857466,\n",
       "        1857525, 1857526, 1857527, 1857531, 1857539, 1857561, 1857564,\n",
       "        1857583, 1857610, 1857613, 1857618, 1857622, 1857627, 1857635,\n",
       "        1857681, 1857704, 1857720, 1857736, 1857737, 1857772, 1898106,\n",
       "        1898251, 1898467, 1898663, 1898938, 1899072, 1899103, 1899306,\n",
       "        1899388, 1912877], dtype=int64),)"
      ]
     },
     "execution_count": 16,
     "metadata": {},
     "output_type": "execute_result"
    }
   ],
   "source": [
    "np.where(np.isnan(df['Speed_limit']))"
   ]
  },
  {
   "cell_type": "code",
   "execution_count": 17,
   "id": "b86e252a",
   "metadata": {},
   "outputs": [],
   "source": [
    "df['Speed_limit'].fillna((df['Speed_limit'].mean()), inplace=True)"
   ]
  },
  {
   "cell_type": "code",
   "execution_count": 18,
   "id": "85eaa040",
   "metadata": {},
   "outputs": [],
   "source": [
    "df['Time'].fillna(0, inplace=True)"
   ]
  },
  {
   "cell_type": "code",
   "execution_count": 19,
   "id": "8ed384ea",
   "metadata": {},
   "outputs": [],
   "source": [
    "def period(row):\n",
    "    rdf = []\n",
    "    if(type(row) == float):\n",
    "        row = str(row)\n",
    "        rdf = row.split(\".\")\n",
    "    else:\n",
    "        rdf = str(row).split(\":\"); # day -- 8am-8pm\n",
    "        \n",
    "    hr = rdf[0]\n",
    "    if int(hr) > 8 and int(hr) < 20:\n",
    "        return 1;\n",
    "    else:\n",
    "        return 2;"
   ]
  },
  {
   "cell_type": "code",
   "execution_count": 20,
   "id": "b76f4f67",
   "metadata": {},
   "outputs": [],
   "source": [
    "df['Time'] = df['Time'].apply(period)"
   ]
  },
  {
   "cell_type": "code",
   "execution_count": 21,
   "id": "bb2bd039",
   "metadata": {},
   "outputs": [],
   "source": [
    "df_train1 = df[['1st_Road_Class','Carriageway_Hazards','Junction_Control','Day_of_Week','Junction_Detail','Light_Conditions','Road_Surface_Conditions','Road_Type','Special_Conditions_at_Site','Speed_limit','Time','Urban_or_Rural_Area','Weather_Conditions','Accident_Severity']]\n"
   ]
  },
  {
   "cell_type": "code",
   "execution_count": 22,
   "id": "454dcc22",
   "metadata": {},
   "outputs": [],
   "source": [
    "df_slight = df_train1[df_train1['Accident_Severity']=='Slight']"
   ]
  },
  {
   "cell_type": "code",
   "execution_count": 23,
   "id": "c57d2c48",
   "metadata": {},
   "outputs": [],
   "source": [
    "df_serious = df_train1[df_train1['Accident_Severity']=='Serious']"
   ]
  },
  {
   "cell_type": "code",
   "execution_count": 24,
   "id": "78752822",
   "metadata": {},
   "outputs": [],
   "source": [
    "df_fatal = df_train1[df_train1['Accident_Severity']=='Fatal']"
   ]
  },
  {
   "cell_type": "code",
   "execution_count": 25,
   "id": "5aa2bfdb",
   "metadata": {},
   "outputs": [
    {
     "data": {
      "text/plain": [
       "Serious    286339\n",
       "Name: Accident_Severity, dtype: int64"
      ]
     },
     "execution_count": 25,
     "metadata": {},
     "output_type": "execute_result"
    }
   ],
   "source": [
    "df_serious['Accident_Severity'].value_counts()"
   ]
  },
  {
   "cell_type": "code",
   "execution_count": 26,
   "id": "82baeb9b",
   "metadata": {},
   "outputs": [
    {
     "data": {
      "text/html": [
       "<div>\n",
       "<style scoped>\n",
       "    .dataframe tbody tr th:only-of-type {\n",
       "        vertical-align: middle;\n",
       "    }\n",
       "\n",
       "    .dataframe tbody tr th {\n",
       "        vertical-align: top;\n",
       "    }\n",
       "\n",
       "    .dataframe thead th {\n",
       "        text-align: right;\n",
       "    }\n",
       "</style>\n",
       "<table border=\"1\" class=\"dataframe\">\n",
       "  <thead>\n",
       "    <tr style=\"text-align: right;\">\n",
       "      <th></th>\n",
       "      <th>1st_Road_Class</th>\n",
       "      <th>Carriageway_Hazards</th>\n",
       "      <th>Junction_Control</th>\n",
       "      <th>Day_of_Week</th>\n",
       "      <th>Junction_Detail</th>\n",
       "      <th>Light_Conditions</th>\n",
       "      <th>Road_Surface_Conditions</th>\n",
       "      <th>Road_Type</th>\n",
       "      <th>Special_Conditions_at_Site</th>\n",
       "      <th>Speed_limit</th>\n",
       "      <th>Time</th>\n",
       "      <th>Urban_or_Rural_Area</th>\n",
       "      <th>Weather_Conditions</th>\n",
       "      <th>Accident_Severity</th>\n",
       "    </tr>\n",
       "  </thead>\n",
       "  <tbody>\n",
       "    <tr>\n",
       "      <th>427422</th>\n",
       "      <td>3</td>\n",
       "      <td>0</td>\n",
       "      <td>1</td>\n",
       "      <td>0</td>\n",
       "      <td>2</td>\n",
       "      <td>0</td>\n",
       "      <td>1</td>\n",
       "      <td>0</td>\n",
       "      <td>0</td>\n",
       "      <td>30.0</td>\n",
       "      <td>2</td>\n",
       "      <td>1</td>\n",
       "      <td>1</td>\n",
       "      <td>Slight</td>\n",
       "    </tr>\n",
       "    <tr>\n",
       "      <th>872561</th>\n",
       "      <td>2</td>\n",
       "      <td>0</td>\n",
       "      <td>3</td>\n",
       "      <td>1</td>\n",
       "      <td>1</td>\n",
       "      <td>0</td>\n",
       "      <td>2</td>\n",
       "      <td>1</td>\n",
       "      <td>0</td>\n",
       "      <td>60.0</td>\n",
       "      <td>1</td>\n",
       "      <td>2</td>\n",
       "      <td>1</td>\n",
       "      <td>Slight</td>\n",
       "    </tr>\n",
       "    <tr>\n",
       "      <th>297783</th>\n",
       "      <td>1</td>\n",
       "      <td>0</td>\n",
       "      <td>1</td>\n",
       "      <td>0</td>\n",
       "      <td>2</td>\n",
       "      <td>0</td>\n",
       "      <td>1</td>\n",
       "      <td>1</td>\n",
       "      <td>0</td>\n",
       "      <td>30.0</td>\n",
       "      <td>1</td>\n",
       "      <td>1</td>\n",
       "      <td>1</td>\n",
       "      <td>Slight</td>\n",
       "    </tr>\n",
       "  </tbody>\n",
       "</table>\n",
       "</div>"
      ],
      "text/plain": [
       "        1st_Road_Class  Carriageway_Hazards  Junction_Control  Day_of_Week  \\\n",
       "427422               3                    0                 1            0   \n",
       "872561               2                    0                 3            1   \n",
       "297783               1                    0                 1            0   \n",
       "\n",
       "        Junction_Detail  Light_Conditions  Road_Surface_Conditions  Road_Type  \\\n",
       "427422                2                 0                        1          0   \n",
       "872561                1                 0                        2          1   \n",
       "297783                2                 0                        1          1   \n",
       "\n",
       "        Special_Conditions_at_Site  Speed_limit  Time  Urban_or_Rural_Area  \\\n",
       "427422                           0         30.0     2                    1   \n",
       "872561                           0         60.0     1                    2   \n",
       "297783                           0         30.0     1                    1   \n",
       "\n",
       "        Weather_Conditions Accident_Severity  \n",
       "427422                   1            Slight  \n",
       "872561                   1            Slight  \n",
       "297783                   1            Slight  "
      ]
     },
     "execution_count": 26,
     "metadata": {},
     "output_type": "execute_result"
    }
   ],
   "source": [
    "random_subset = df_slight.sample(n=3)\n",
    "random_subset.head()"
   ]
  },
  {
   "cell_type": "code",
   "execution_count": 27,
   "id": "bffbfa86",
   "metadata": {},
   "outputs": [
    {
     "data": {
      "text/plain": [
       "Fatal    26369\n",
       "Name: Accident_Severity, dtype: int64"
      ]
     },
     "execution_count": 27,
     "metadata": {},
     "output_type": "execute_result"
    }
   ],
   "source": [
    "df_fatal['Accident_Severity'].value_counts()"
   ]
  },
  {
   "cell_type": "code",
   "execution_count": 28,
   "id": "768f8114",
   "metadata": {},
   "outputs": [],
   "source": [
    "df_slight_sampling = df_slight.sample(n=45000)"
   ]
  },
  {
   "cell_type": "code",
   "execution_count": 29,
   "id": "075695f1",
   "metadata": {},
   "outputs": [],
   "source": [
    "df_serious_sampling = df_serious.sample(n=24693) "
   ]
  },
  {
   "cell_type": "code",
   "execution_count": 30,
   "id": "fd9c03f4",
   "metadata": {},
   "outputs": [],
   "source": [
    "df_final_sampling = pd.concat([df_serious_sampling,df_slight_sampling,df_fatal])"
   ]
  },
  {
   "cell_type": "code",
   "execution_count": 31,
   "id": "7f867073",
   "metadata": {},
   "outputs": [
    {
     "data": {
      "text/html": [
       "<div>\n",
       "<style scoped>\n",
       "    .dataframe tbody tr th:only-of-type {\n",
       "        vertical-align: middle;\n",
       "    }\n",
       "\n",
       "    .dataframe tbody tr th {\n",
       "        vertical-align: top;\n",
       "    }\n",
       "\n",
       "    .dataframe thead th {\n",
       "        text-align: right;\n",
       "    }\n",
       "</style>\n",
       "<table border=\"1\" class=\"dataframe\">\n",
       "  <thead>\n",
       "    <tr style=\"text-align: right;\">\n",
       "      <th></th>\n",
       "      <th>1st_Road_Class</th>\n",
       "      <th>Carriageway_Hazards</th>\n",
       "      <th>Junction_Control</th>\n",
       "      <th>Day_of_Week</th>\n",
       "      <th>Junction_Detail</th>\n",
       "      <th>Light_Conditions</th>\n",
       "      <th>Road_Surface_Conditions</th>\n",
       "      <th>Road_Type</th>\n",
       "      <th>Special_Conditions_at_Site</th>\n",
       "      <th>Speed_limit</th>\n",
       "      <th>Time</th>\n",
       "      <th>Urban_or_Rural_Area</th>\n",
       "      <th>Weather_Conditions</th>\n",
       "      <th>Accident_Severity</th>\n",
       "    </tr>\n",
       "  </thead>\n",
       "  <tbody>\n",
       "    <tr>\n",
       "      <th>1413126</th>\n",
       "      <td>1</td>\n",
       "      <td>0</td>\n",
       "      <td>1</td>\n",
       "      <td>0</td>\n",
       "      <td>3</td>\n",
       "      <td>0</td>\n",
       "      <td>2</td>\n",
       "      <td>1</td>\n",
       "      <td>0</td>\n",
       "      <td>30.0</td>\n",
       "      <td>2</td>\n",
       "      <td>1</td>\n",
       "      <td>1</td>\n",
       "      <td>Serious</td>\n",
       "    </tr>\n",
       "    <tr>\n",
       "      <th>1364692</th>\n",
       "      <td>1</td>\n",
       "      <td>0</td>\n",
       "      <td>1</td>\n",
       "      <td>1</td>\n",
       "      <td>2</td>\n",
       "      <td>0</td>\n",
       "      <td>1</td>\n",
       "      <td>1</td>\n",
       "      <td>0</td>\n",
       "      <td>30.0</td>\n",
       "      <td>2</td>\n",
       "      <td>1</td>\n",
       "      <td>1</td>\n",
       "      <td>Serious</td>\n",
       "    </tr>\n",
       "    <tr>\n",
       "      <th>2004639</th>\n",
       "      <td>1</td>\n",
       "      <td>0</td>\n",
       "      <td>1</td>\n",
       "      <td>0</td>\n",
       "      <td>1</td>\n",
       "      <td>0</td>\n",
       "      <td>1</td>\n",
       "      <td>1</td>\n",
       "      <td>0</td>\n",
       "      <td>30.0</td>\n",
       "      <td>1</td>\n",
       "      <td>2</td>\n",
       "      <td>1</td>\n",
       "      <td>Serious</td>\n",
       "    </tr>\n",
       "    <tr>\n",
       "      <th>1384200</th>\n",
       "      <td>2</td>\n",
       "      <td>0</td>\n",
       "      <td>1</td>\n",
       "      <td>0</td>\n",
       "      <td>1</td>\n",
       "      <td>1</td>\n",
       "      <td>2</td>\n",
       "      <td>1</td>\n",
       "      <td>0</td>\n",
       "      <td>30.0</td>\n",
       "      <td>1</td>\n",
       "      <td>1</td>\n",
       "      <td>2</td>\n",
       "      <td>Serious</td>\n",
       "    </tr>\n",
       "    <tr>\n",
       "      <th>2025486</th>\n",
       "      <td>1</td>\n",
       "      <td>0</td>\n",
       "      <td>2</td>\n",
       "      <td>0</td>\n",
       "      <td>3</td>\n",
       "      <td>0</td>\n",
       "      <td>1</td>\n",
       "      <td>1</td>\n",
       "      <td>0</td>\n",
       "      <td>20.0</td>\n",
       "      <td>1</td>\n",
       "      <td>1</td>\n",
       "      <td>1</td>\n",
       "      <td>Serious</td>\n",
       "    </tr>\n",
       "  </tbody>\n",
       "</table>\n",
       "</div>"
      ],
      "text/plain": [
       "         1st_Road_Class  Carriageway_Hazards  Junction_Control  Day_of_Week  \\\n",
       "1413126               1                    0                 1            0   \n",
       "1364692               1                    0                 1            1   \n",
       "2004639               1                    0                 1            0   \n",
       "1384200               2                    0                 1            0   \n",
       "2025486               1                    0                 2            0   \n",
       "\n",
       "         Junction_Detail  Light_Conditions  Road_Surface_Conditions  \\\n",
       "1413126                3                 0                        2   \n",
       "1364692                2                 0                        1   \n",
       "2004639                1                 0                        1   \n",
       "1384200                1                 1                        2   \n",
       "2025486                3                 0                        1   \n",
       "\n",
       "         Road_Type  Special_Conditions_at_Site  Speed_limit  Time  \\\n",
       "1413126          1                           0         30.0     2   \n",
       "1364692          1                           0         30.0     2   \n",
       "2004639          1                           0         30.0     1   \n",
       "1384200          1                           0         30.0     1   \n",
       "2025486          1                           0         20.0     1   \n",
       "\n",
       "         Urban_or_Rural_Area  Weather_Conditions Accident_Severity  \n",
       "1413126                    1                   1           Serious  \n",
       "1364692                    1                   1           Serious  \n",
       "2004639                    2                   1           Serious  \n",
       "1384200                    1                   2           Serious  \n",
       "2025486                    1                   1           Serious  "
      ]
     },
     "execution_count": 31,
     "metadata": {},
     "output_type": "execute_result"
    }
   ],
   "source": [
    "df_final_sampling.head()"
   ]
  },
  {
   "cell_type": "code",
   "execution_count": 32,
   "id": "debb0575",
   "metadata": {},
   "outputs": [],
   "source": [
    "df_test = df_final_sampling[['Accident_Severity']]"
   ]
  },
  {
   "cell_type": "code",
   "execution_count": 33,
   "id": "8e289644",
   "metadata": {},
   "outputs": [
    {
     "name": "stderr",
     "output_type": "stream",
     "text": [
      "C:\\Users\\DELL\\AppData\\Local\\Temp/ipykernel_13016/3995831140.py:1: SettingWithCopyWarning: \n",
      "A value is trying to be set on a copy of a slice from a DataFrame.\n",
      "Try using .loc[row_indexer,col_indexer] = value instead\n",
      "\n",
      "See the caveats in the documentation: https://pandas.pydata.org/pandas-docs/stable/user_guide/indexing.html#returning-a-view-versus-a-copy\n",
      "  df_test['Accident_Severity'] = df_test['Accident_Severity'].replace(['Fatal'], 'Serious')\n"
     ]
    }
   ],
   "source": [
    "df_test['Accident_Severity'] = df_test['Accident_Severity'].replace(['Fatal'], 'Serious')"
   ]
  },
  {
   "cell_type": "code",
   "execution_count": 34,
   "id": "f9aed2c4",
   "metadata": {},
   "outputs": [],
   "source": [
    "df_train = df_final_sampling[['1st_Road_Class','Carriageway_Hazards','Junction_Control','Day_of_Week','Junction_Detail','Light_Conditions','Road_Surface_Conditions','Road_Type','Special_Conditions_at_Site','Speed_limit','Time','Urban_or_Rural_Area','Weather_Conditions']]\n"
   ]
  },
  {
   "cell_type": "code",
   "execution_count": 35,
   "id": "974425d0",
   "metadata": {},
   "outputs": [
    {
     "data": {
      "text/plain": [
       "Serious    51062\n",
       "Slight     45000\n",
       "Name: Accident_Severity, dtype: int64"
      ]
     },
     "execution_count": 35,
     "metadata": {},
     "output_type": "execute_result"
    }
   ],
   "source": [
    "df_test['Accident_Severity'].value_counts()"
   ]
  },
  {
   "cell_type": "code",
   "execution_count": 36,
   "id": "cbe38f03",
   "metadata": {},
   "outputs": [],
   "source": [
    "from sklearn.model_selection import train_test_split\n",
    "X_train, X_test, y_train, y_test = train_test_split(df_train, df_test, test_size=0.2)"
   ]
  },
  {
   "cell_type": "code",
   "execution_count": 42,
   "id": "fd130d1f",
   "metadata": {},
   "outputs": [
    {
     "name": "stderr",
     "output_type": "stream",
     "text": [
      "C:\\Users\\DELL\\AppData\\Local\\Temp/ipykernel_13016/2563824502.py:5: DataConversionWarning: A column-vector y was passed when a 1d array was expected. Please change the shape of y to (n_samples,), for example using ravel().\n",
      "  rdf.fit(X_train,y_train)\n"
     ]
    },
    {
     "name": "stdout",
     "output_type": "stream",
     "text": [
      "Accuracy: 0.6148961640555873\n",
      "[[6121 3981]\n",
      " [3418 5693]]\n",
      "              precision    recall  f1-score   support\n",
      "\n",
      "     Serious       0.64      0.61      0.62     10102\n",
      "      Slight       0.59      0.62      0.61      9111\n",
      "\n",
      "    accuracy                           0.61     19213\n",
      "   macro avg       0.62      0.62      0.61     19213\n",
      "weighted avg       0.62      0.61      0.62     19213\n",
      "\n"
     ]
    }
   ],
   "source": [
    "from sklearn.ensemble import RandomForestClassifier\n",
    "#class_weight = dict({2:1, 1:15, 0:50})\n",
    "rdf = RandomForestClassifier(n_estimators=300,random_state=35)\n",
    "\n",
    "rdf.fit(X_train,y_train)\n",
    "\n",
    "y_pred=rdf.predict(X_test)\n",
    "\n",
    "#Import scikit-learn metrics module for accuracy calculation\n",
    "from sklearn import metrics\n",
    "print(\"Accuracy:\",metrics.accuracy_score(y_test, y_pred))\n",
    "\n",
    "from sklearn.metrics import classification_report, confusion_matrix  \n",
    "print(confusion_matrix(y_test, y_pred))  \n",
    "print(classification_report(y_test, y_pred)) "
   ]
  },
  {
   "cell_type": "code",
   "execution_count": 38,
   "id": "84f70fb2",
   "metadata": {},
   "outputs": [],
   "source": [
    "from sklearn.ensemble import RandomForestClassifier\n",
    "rdf = RandomForestClassifier(bootstrap=True,\n",
    "            class_weight=\"balanced_subsample\", \n",
    "            criterion='gini',\n",
    "            max_depth=8, max_features='auto', max_leaf_nodes=None,\n",
    "            min_impurity_decrease=0.0, \n",
    "            min_samples_leaf=4, min_samples_split=10,\n",
    "            min_weight_fraction_leaf=0.0, n_estimators=300,\n",
    "            oob_score=True,\n",
    "            random_state=35,\n",
    "            verbose=0, warm_start=False)"
   ]
  },
  {
   "cell_type": "code",
   "execution_count": 39,
   "id": "0585c744",
   "metadata": {},
   "outputs": [
    {
     "name": "stderr",
     "output_type": "stream",
     "text": [
      "C:\\Users\\DELL\\AppData\\Local\\Temp/ipykernel_13016/1988222922.py:1: DataConversionWarning: A column-vector y was passed when a 1d array was expected. Please change the shape of y to (n_samples,), for example using ravel().\n",
      "  rdf.fit(X_train,y_train)\n",
      "C:\\Users\\DELL\\anaconda3\\lib\\site-packages\\sklearn\\ensemble\\_forest.py:427: FutureWarning: `max_features='auto'` has been deprecated in 1.1 and will be removed in 1.3. To keep the past behaviour, explicitly set `max_features='sqrt'` or remove this parameter as it is also the default value for RandomForestClassifiers and ExtraTreesClassifiers.\n",
      "  warn(\n"
     ]
    }
   ],
   "source": [
    "rdf.fit(X_train,y_train)\n",
    "\n",
    "y_pred=rdf.predict(X_test)"
   ]
  },
  {
   "cell_type": "code",
   "execution_count": 40,
   "id": "2b3a5aec",
   "metadata": {},
   "outputs": [
    {
     "name": "stdout",
     "output_type": "stream",
     "text": [
      "Accuracy: 0.6244209649716338\n"
     ]
    }
   ],
   "source": [
    "from sklearn import metrics\n",
    "print(\"Accuracy:\",metrics.accuracy_score(y_test, y_pred))"
   ]
  },
  {
   "cell_type": "code",
   "execution_count": 41,
   "id": "c55596f3",
   "metadata": {},
   "outputs": [
    {
     "name": "stdout",
     "output_type": "stream",
     "text": [
      "[[5544 4558]\n",
      " [2658 6453]]\n",
      "              precision    recall  f1-score   support\n",
      "\n",
      "     Serious       0.68      0.55      0.61     10102\n",
      "      Slight       0.59      0.71      0.64      9111\n",
      "\n",
      "    accuracy                           0.62     19213\n",
      "   macro avg       0.63      0.63      0.62     19213\n",
      "weighted avg       0.63      0.62      0.62     19213\n",
      "\n"
     ]
    }
   ],
   "source": [
    "from sklearn import metrics\n",
    "from sklearn.metrics import classification_report, confusion_matrix  \n",
    "print(confusion_matrix(y_test, y_pred))  \n",
    "print(classification_report(y_test, y_pred)) "
   ]
  },
  {
   "cell_type": "code",
   "execution_count": 43,
   "id": "1d68cff6",
   "metadata": {},
   "outputs": [],
   "source": []
  },
  {
   "cell_type": "code",
   "execution_count": 47,
   "id": "a15d1394",
   "metadata": {},
   "outputs": [],
   "source": [
    "import pickle\n",
    "#pickle.dump(tfidf,open('vectorizer.pkl','wb'))\n",
    "pickle.dump(rdf,open('mode.pkl','wb'))"
   ]
  },
  {
   "cell_type": "code",
   "execution_count": 48,
   "id": "03a7895d",
   "metadata": {},
   "outputs": [],
   "source": [
    "pickle_model=pickle.load(open('mode.pkl','rb'))"
   ]
  },
  {
   "cell_type": "code",
   "execution_count": 49,
   "id": "330ad2c7",
   "metadata": {},
   "outputs": [
    {
     "data": {
      "text/plain": [
       "array(['Slight', 'Serious', 'Slight', ..., 'Slight', 'Serious', 'Serious'],\n",
       "      dtype=object)"
      ]
     },
     "execution_count": 49,
     "metadata": {},
     "output_type": "execute_result"
    }
   ],
   "source": [
    "pickle_model.predict(X_test)"
   ]
  },
  {
   "cell_type": "code",
   "execution_count": null,
   "id": "b7ed5e9f",
   "metadata": {},
   "outputs": [],
   "source": []
  }
 ],
 "metadata": {
  "kernelspec": {
   "display_name": "Python 3 (ipykernel)",
   "language": "python",
   "name": "python3"
  },
  "language_info": {
   "codemirror_mode": {
    "name": "ipython",
    "version": 3
   },
   "file_extension": ".py",
   "mimetype": "text/x-python",
   "name": "python",
   "nbconvert_exporter": "python",
   "pygments_lexer": "ipython3",
   "version": "3.9.7"
  }
 },
 "nbformat": 4,
 "nbformat_minor": 5
}
